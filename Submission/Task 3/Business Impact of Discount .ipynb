{
 "cells": [
  {
   "cell_type": "markdown",
   "id": "79830d29",
   "metadata": {},
   "source": [
    "# Business Impact of Discount\n",
    "\n",
    "We conduct a brief analysis of the strategy that the SME division head proposed. This is not necessarily the optimal strategy.\n",
    "\n",
    "The SME division head proposed that we give a 20% discount to high propensity-to-churn customers. We can assume to start that everyone who is offered a discount will accept it.\n",
    "\n"
   ]
  },
  {
   "cell_type": "markdown",
   "id": "f54c81ce",
   "metadata": {},
   "source": [
    "## General Workflow\n",
    "\n",
    "Our task is to calculate the forecast revenue of the set of customers:\n",
    "\n",
    "1. When no discount is offered\n",
    "2. When a discount is offered based on some probability cut-off to decide who should receive a discount 20% and therefore decide where the cut-off should be set so as to maximise revenue.\n",
    "\n",
    "Do the following:"
   ]
  },
  {
   "cell_type": "markdown",
   "id": "0b1244cd",
   "metadata": {},
   "source": [
    "## Load the data\n",
    "\n",
    "- Load data predictions from the best model\n",
    "- Sort the predictions by predicted probability of churn in descending order (ie, highest predicted probability of churn customers first)"
   ]
  },
  {
   "cell_type": "code",
   "execution_count": 1,
   "id": "4f912572",
   "metadata": {},
   "outputs": [],
   "source": [
    "# Imports\n",
    "import pandas as pd\n",
    "import numpy as np\n",
    "import matplotlib.pyplot as plt"
   ]
  },
  {
   "cell_type": "code",
   "execution_count": 2,
   "id": "40bda2cc",
   "metadata": {},
   "outputs": [],
   "source": [
    "# Read CSVs\n",
    "predictions = pd.read_csv('predictions.csv')"
   ]
  },
  {
   "cell_type": "code",
   "execution_count": 3,
   "id": "860d8daa",
   "metadata": {},
   "outputs": [
    {
     "data": {
      "text/html": [
       "<div>\n",
       "<style scoped>\n",
       "    .dataframe tbody tr th:only-of-type {\n",
       "        vertical-align: middle;\n",
       "    }\n",
       "\n",
       "    .dataframe tbody tr th {\n",
       "        vertical-align: top;\n",
       "    }\n",
       "\n",
       "    .dataframe thead th {\n",
       "        text-align: right;\n",
       "    }\n",
       "</style>\n",
       "<table border=\"1\" class=\"dataframe\">\n",
       "  <thead>\n",
       "    <tr style=\"text-align: right;\">\n",
       "      <th></th>\n",
       "      <th>Unnamed: 0</th>\n",
       "      <th>cons_12m</th>\n",
       "      <th>cons_gas_12m</th>\n",
       "      <th>cons_last_month</th>\n",
       "      <th>forecast_cons_12m</th>\n",
       "      <th>forecast_discount_energy</th>\n",
       "      <th>forecast_meter_rent_12m</th>\n",
       "      <th>forecast_price_energy_off_peak</th>\n",
       "      <th>forecast_price_energy_peak</th>\n",
       "      <th>forecast_price_pow_off_peak</th>\n",
       "      <th>...</th>\n",
       "      <th>channel_lmk</th>\n",
       "      <th>channel_sdd</th>\n",
       "      <th>channel_usi</th>\n",
       "      <th>origin_ewx</th>\n",
       "      <th>origin_kam</th>\n",
       "      <th>origin_ldk</th>\n",
       "      <th>origin_lxi</th>\n",
       "      <th>origin_usa</th>\n",
       "      <th>y_test_pred</th>\n",
       "      <th>y_test</th>\n",
       "    </tr>\n",
       "  </thead>\n",
       "  <tbody>\n",
       "    <tr>\n",
       "      <th>0</th>\n",
       "      <td>22541</td>\n",
       "      <td>2.470116</td>\n",
       "      <td>-0.442451</td>\n",
       "      <td>1.549620</td>\n",
       "      <td>0.827911</td>\n",
       "      <td>-0.011832</td>\n",
       "      <td>0.421280</td>\n",
       "      <td>1.132572</td>\n",
       "      <td>0.597888</td>\n",
       "      <td>0.646787</td>\n",
       "      <td>...</td>\n",
       "      <td>2.630497</td>\n",
       "      <td>-0.026474</td>\n",
       "      <td>-0.322698</td>\n",
       "      <td>-0.008725</td>\n",
       "      <td>-0.644165</td>\n",
       "      <td>-0.522790</td>\n",
       "      <td>1.016403</td>\n",
       "      <td>-0.01234</td>\n",
       "      <td>0.95</td>\n",
       "      <td>1</td>\n",
       "    </tr>\n",
       "    <tr>\n",
       "      <th>1</th>\n",
       "      <td>60024</td>\n",
       "      <td>-0.233715</td>\n",
       "      <td>-0.442451</td>\n",
       "      <td>0.515857</td>\n",
       "      <td>0.457913</td>\n",
       "      <td>-0.011832</td>\n",
       "      <td>-0.480903</td>\n",
       "      <td>0.377419</td>\n",
       "      <td>-1.028224</td>\n",
       "      <td>0.580265</td>\n",
       "      <td>...</td>\n",
       "      <td>-0.380156</td>\n",
       "      <td>-0.026474</td>\n",
       "      <td>-0.322698</td>\n",
       "      <td>-0.008725</td>\n",
       "      <td>-0.644165</td>\n",
       "      <td>1.912813</td>\n",
       "      <td>-0.983862</td>\n",
       "      <td>-0.01234</td>\n",
       "      <td>0.00</td>\n",
       "      <td>0</td>\n",
       "    </tr>\n",
       "    <tr>\n",
       "      <th>2</th>\n",
       "      <td>158603</td>\n",
       "      <td>-0.763586</td>\n",
       "      <td>-0.442451</td>\n",
       "      <td>-1.277793</td>\n",
       "      <td>-0.395593</td>\n",
       "      <td>-0.011832</td>\n",
       "      <td>-0.984836</td>\n",
       "      <td>0.404276</td>\n",
       "      <td>-1.028224</td>\n",
       "      <td>0.580265</td>\n",
       "      <td>...</td>\n",
       "      <td>-0.380156</td>\n",
       "      <td>-0.026474</td>\n",
       "      <td>-0.322698</td>\n",
       "      <td>-0.008725</td>\n",
       "      <td>-0.644165</td>\n",
       "      <td>1.912813</td>\n",
       "      <td>-0.983862</td>\n",
       "      <td>-0.01234</td>\n",
       "      <td>0.00</td>\n",
       "      <td>0</td>\n",
       "    </tr>\n",
       "    <tr>\n",
       "      <th>3</th>\n",
       "      <td>38296</td>\n",
       "      <td>0.376927</td>\n",
       "      <td>-0.442451</td>\n",
       "      <td>-1.277793</td>\n",
       "      <td>1.049732</td>\n",
       "      <td>-0.011832</td>\n",
       "      <td>1.125118</td>\n",
       "      <td>-1.166638</td>\n",
       "      <td>0.974802</td>\n",
       "      <td>-1.268082</td>\n",
       "      <td>...</td>\n",
       "      <td>-0.380156</td>\n",
       "      <td>-0.026474</td>\n",
       "      <td>-0.322698</td>\n",
       "      <td>-0.008725</td>\n",
       "      <td>-0.644165</td>\n",
       "      <td>-0.522790</td>\n",
       "      <td>1.016403</td>\n",
       "      <td>-0.01234</td>\n",
       "      <td>0.00</td>\n",
       "      <td>0</td>\n",
       "    </tr>\n",
       "    <tr>\n",
       "      <th>4</th>\n",
       "      <td>83923</td>\n",
       "      <td>-0.330529</td>\n",
       "      <td>-0.442451</td>\n",
       "      <td>0.713682</td>\n",
       "      <td>0.290409</td>\n",
       "      <td>-0.011832</td>\n",
       "      <td>-1.126464</td>\n",
       "      <td>0.404276</td>\n",
       "      <td>-1.028224</td>\n",
       "      <td>0.580265</td>\n",
       "      <td>...</td>\n",
       "      <td>-0.380156</td>\n",
       "      <td>-0.026474</td>\n",
       "      <td>-0.322698</td>\n",
       "      <td>-0.008725</td>\n",
       "      <td>-0.644165</td>\n",
       "      <td>-0.522790</td>\n",
       "      <td>1.016403</td>\n",
       "      <td>-0.01234</td>\n",
       "      <td>0.00</td>\n",
       "      <td>0</td>\n",
       "    </tr>\n",
       "  </tbody>\n",
       "</table>\n",
       "<p>5 rows × 43 columns</p>\n",
       "</div>"
      ],
      "text/plain": [
       "   Unnamed: 0  cons_12m  cons_gas_12m  cons_last_month  forecast_cons_12m  \\\n",
       "0       22541  2.470116     -0.442451         1.549620           0.827911   \n",
       "1       60024 -0.233715     -0.442451         0.515857           0.457913   \n",
       "2      158603 -0.763586     -0.442451        -1.277793          -0.395593   \n",
       "3       38296  0.376927     -0.442451        -1.277793           1.049732   \n",
       "4       83923 -0.330529     -0.442451         0.713682           0.290409   \n",
       "\n",
       "   forecast_discount_energy  forecast_meter_rent_12m  \\\n",
       "0                 -0.011832                 0.421280   \n",
       "1                 -0.011832                -0.480903   \n",
       "2                 -0.011832                -0.984836   \n",
       "3                 -0.011832                 1.125118   \n",
       "4                 -0.011832                -1.126464   \n",
       "\n",
       "   forecast_price_energy_off_peak  forecast_price_energy_peak  \\\n",
       "0                        1.132572                    0.597888   \n",
       "1                        0.377419                   -1.028224   \n",
       "2                        0.404276                   -1.028224   \n",
       "3                       -1.166638                    0.974802   \n",
       "4                        0.404276                   -1.028224   \n",
       "\n",
       "   forecast_price_pow_off_peak  ...  channel_lmk  channel_sdd  channel_usi  \\\n",
       "0                     0.646787  ...     2.630497    -0.026474    -0.322698   \n",
       "1                     0.580265  ...    -0.380156    -0.026474    -0.322698   \n",
       "2                     0.580265  ...    -0.380156    -0.026474    -0.322698   \n",
       "3                    -1.268082  ...    -0.380156    -0.026474    -0.322698   \n",
       "4                     0.580265  ...    -0.380156    -0.026474    -0.322698   \n",
       "\n",
       "   origin_ewx  origin_kam  origin_ldk  origin_lxi  origin_usa  y_test_pred  \\\n",
       "0   -0.008725   -0.644165   -0.522790    1.016403    -0.01234         0.95   \n",
       "1   -0.008725   -0.644165    1.912813   -0.983862    -0.01234         0.00   \n",
       "2   -0.008725   -0.644165    1.912813   -0.983862    -0.01234         0.00   \n",
       "3   -0.008725   -0.644165   -0.522790    1.016403    -0.01234         0.00   \n",
       "4   -0.008725   -0.644165   -0.522790    1.016403    -0.01234         0.00   \n",
       "\n",
       "   y_test  \n",
       "0       1  \n",
       "1       0  \n",
       "2       0  \n",
       "3       0  \n",
       "4       0  \n",
       "\n",
       "[5 rows x 43 columns]"
      ]
     },
     "execution_count": 3,
     "metadata": {},
     "output_type": "execute_result"
    }
   ],
   "source": [
    "predictions.head()"
   ]
  },
  {
   "cell_type": "markdown",
   "id": "5e1e563b",
   "metadata": {},
   "source": [
    "Calculate a baseline revenue estimate (no intervention)\n",
    "Calculate a baseline estimate of the electricity revenue for every customer for the next twelve months based on the forecast consumption and forecast price and actual churn ouotcomoe. Call this basecase_revenue\n",
    "\n",
    "- For customers who end up churning, we should reduce our forecast revenue calculation by 91.9% to account for the customers churn some time between January 2016 and the start of March 2016. (Not knowing when they churn, a reasonable assumption for the lost revenue is the average of 100%, corresponding to churn on 1 January 2016, and 83.9%, corresponding to churn at the end of February, or 59 days into a 365 day year).Call this new variable basecase_revenue_after_churn, ie basecase_revenue_after_churn = basecase_revenue (1- 0.919 churn)"
   ]
  },
  {
   "cell_type": "code",
   "execution_count": 5,
   "id": "1c3a8430",
   "metadata": {},
   "outputs": [],
   "source": [
    "# Electricity revenue for each customer consists of energy consumption (amount * price) and the meter rent\n",
    "# The power price may also play a role, but we will ignore it for now \n",
    "# Note that we need to reverse the log10-trransformation from the data cleaning step\n",
    "predictions['basecase_revenue'] = \\\n",
    "(np.power(10, predictions['forecast_cons_12m'])+1) * predictions['forecast_price_energy_off_peak'] + \\\n",
    "np.power(10, predictions['forecast_meter_rent_12m']+1)"
   ]
  },
  {
   "cell_type": "code",
   "execution_count": 6,
   "id": "e9e3c7fa",
   "metadata": {},
   "outputs": [],
   "source": [
    "# taking churn into account\n",
    "predictions['basecase_revenue_after_churn'] = predictions['basecase_revenue'] * (1 - 0.919 * predictions['y_test'])"
   ]
  },
  {
   "cell_type": "markdown",
   "id": "0527110e",
   "metadata": {},
   "source": [
    "## Calculate the estimated benefits and costs of intervention\n",
    "\n",
    "Now, pick a cut-off probability (eg, 0.5) so that:\n",
    "\n",
    "- Customers with a higher churn probability than cut-off get a discount, and\n",
    "- Customers below the churn-probability get a discount. From this, calculate the revenue of the intervention scenario of this this scenario assuming:\n",
    "1) All customers who are offered a discount accept it\n",
    "2) Customers who do receive a discount are assumed not to churn in the next twelve months (ie churn probability = 0), and therefore the retained revenue is 0.8 basecase_revenue, being (1 - discount_frraction) basecase_revenue\n",
    "3) Customers who do not receive a discount are assumed to churn based on the observed dependent variable (ie, a 1 or 0 for whether they actually churned or not)\n",
    "\n",
    "Now, map out the revenue delta as a function of the cut-off probability in a graph\n",
    "\n",
    "What cut-off probability approximately optimize the revenue outcome?\n",
    "\n",
    "Assume for these calculations that the customer does not cinsume more or less electricity because the price changes. (In practice, we would expect that if the customer's cost goes down then their consumption might increase.)\n",
    "\n",
    "We will see two counterbalancing effects at play:\n",
    "\n",
    "- For true positive we will see revenue retention vs the no-discount scenario\n",
    "- For false positive we will see reduce revenue from giving them a discount when they wouldn't in fact churn\n",
    "\n",
    "(False negative represent an opportunity cost but not an actual cost differrence between the two scenarios)\n",
    "\n",
    "The optimal cut-off point will balance the benefits from true positives against the costs of false positives.\n",
    "Our task is to approximately fimd the optimal cut-off point. We many need to make additional assumptions. If we feel the assumptions above aren't justified and that others are better than we should modify our assumptions."
   ]
  },
  {
   "cell_type": "code",
   "execution_count": 7,
   "id": "20920349",
   "metadata": {},
   "outputs": [],
   "source": [
    "def get_rev_delta(pred: pd.DataFrame, cutoff: float = 0.5, discount: float = 0.2) -> float:\n",
    "    '''\n",
    "    Get the delta of revenue for offering discount for all customers with predicted churn risk >= cutoff\n",
    "    '''\n",
    "    pred['discount_revenue'] = pred['basecase_revenue_after_churn']\n",
    "    # Churn predicted => discount is given => customer stays for full year, independent of whether the prediction\n",
    "    # (false positive, 'free'/unnecessary discount given) or correct\n",
    "    pred.loc[pred['y_test_pred'] >= cutoff, 'discount_revenue'] = pred['basecase_revenue'] * (1 - discount)\n",
    "    # save tthe revenue delta for each custtomer in a separate column\n",
    "    pred['revenue_delta'] = pred['discount_revenue'] - pred['basecase_revenue_after_churn']\n",
    "    return pred['revenue_delta'].sum()\n"
   ]
  },
  {
   "cell_type": "code",
   "execution_count": 8,
   "id": "dcf16ead",
   "metadata": {},
   "outputs": [],
   "source": [
    "# Generate a list of possible cutoffs and the corresponding overall revenue deltas\n",
    "rev_deltas = pd.Series({cutoff: get_rev_delta(predictions, cutoff = cutoff) for cutoff in np.arange(0, 1, 0.01)})"
   ]
  },
  {
   "cell_type": "code",
   "execution_count": 9,
   "id": "3f4856e7",
   "metadata": {},
   "outputs": [
    {
     "data": {
      "image/png": "[encoded data removed]",
      "text/plain": [
       "<Figure size 432x288 with 1 Axes>"
      ]
     },
     "metadata": {
      "needs_background": "light"
     },
     "output_type": "display_data"
    },
    {
     "name": "stdout",
     "output_type": "stream",
     "text": [
      "Maximum benefit at cutoff 0.26 with revenue delta of $182,416.28\n"
     ]
    }
   ],
   "source": [
    "def plot_tradeoff(rev_deltas: pd.Series):\n",
    "    # Plot the revenue deltas\n",
    "    rev_deltas.plot()\n",
    "    # mark optimal point\n",
    "    max_pred = rev_deltas.idxmax()\n",
    "    plt.scatter(max_pred, rev_deltas.loc[max_pred], s = 100, c = 'red')\n",
    "    # Reference line for break-even\n",
    "    plt.hlines(0, 0, 1)\n",
    "    plt.show()\n",
    "    print(f'Maximum benefit at cutoff {max_pred} with revenue delta of ${rev_deltas.loc[max_pred]:,.2f}')\n",
    "\n",
    "plot_tradeoff(rev_deltas)"
   ]
  },
  {
   "cell_type": "markdown",
   "id": "2b89cebf",
   "metadata": {},
   "source": [
    "## Optional Extra: How to select the cut-off?\n",
    "\n",
    "Above, we decide who to offer the discount to based on the probability cut-off.\n",
    "\n",
    "In this the optimal strategy?\n",
    "\n",
    "- For instance, we might be offering discounts to customers who are not very profitable, thus worsening our overall margins substantially. For example, if offering a discount makes the customer unprofitable on a net margin basis then we might want to let them churn rather than save them.\n",
    "- Even if we only consider revenue, this strategy might not be optimal from a revenue viewpoint. For instance, we can calculate the expected revenue impact of our strategy and priorities customers for discounts that have a high expected revenue impact. (This means that the probability of churn might be high but they also might be valuable customers).\n",
    "\n",
    "A general principle here is that we can afford to spend moe on retaining high-value customers because the costs of losing them are higher.\n",
    "\n",
    "A very common mistake in business applications of churn is to focus on the churn probability whilst forgetting the value impact (to greater or lesswe extents). We have seen many cases where our clients spend as much as effort on retainingupprofitable customers as they do on retaining highly profitable customers."
   ]
  },
  {
   "cell_type": "code",
   "execution_count": 10,
   "id": "897fa34b",
   "metadata": {},
   "outputs": [],
   "source": [
    "def get_rev_delta_high_value(pred: pd.DataFrame, cutoff: float = 0.5, discount: float = 0.2, min_rev: float = 500) -> float:\n",
    "    '''\n",
    "    Get the delta of revenues for ooffering discount for all customers with predicted churn risk >= cutoff and revenue\n",
    "    '''\n",
    "    pred['discount_revenue'] = pred['basecase_revenue_after_churn']\n",
    "    # churn predicted => discount is given for high-value customers => customer stays for full year, independent\n",
    "    pred.loc[(pred['y_test_pred'] >= cutoff)&(pred['basecase_revenue'] > min_rev), 'discount_revenue'] = pred['basecase_revenue'] * (1 - discount)\n",
    "    # save the revenue delta for each customer in a separate column\n",
    "    pred['revenue_delta'] = pred['discount_revenue'] - pred['basecase_revenue_after_churn']\n",
    "    return pred['revenue_delta'].sum()"
   ]
  },
  {
   "cell_type": "code",
   "execution_count": 11,
   "id": "6a748876",
   "metadata": {},
   "outputs": [],
   "source": [
    "# generate a list of possible cutoffs and the corresponding overall revenue deltas\n",
    "rev_deltas_high_value = pd.Series({cutoff: get_rev_delta_high_value(predictions, cutoff = cutoff) for cutoff in np.arange(0, 1, 0.01)})"
   ]
  },
  {
   "cell_type": "code",
   "execution_count": 12,
   "id": "4970d672",
   "metadata": {},
   "outputs": [
    {
     "data": {
      "image/png": "[encoded data removed]",
      "text/plain": [
       "<Figure size 432x288 with 1 Axes>"
      ]
     },
     "metadata": {
      "needs_background": "light"
     },
     "output_type": "display_data"
    },
    {
     "name": "stdout",
     "output_type": "stream",
     "text": [
      "Maximum benefit at cutoff 0.21 with revenue delta of $29,300.65\n"
     ]
    }
   ],
   "source": [
    "# generate a list of possible cutoffs and the corresponding overall revenue deltas\n",
    "plot_tradeoff(rev_deltas_high_value)"
   ]
  },
  {
   "cell_type": "markdown",
   "id": "6ca390fa",
   "metadata": {},
   "source": [
    "Note: In this case, it doesn't make sense to prioritize large-revenue customers, since the overall revenue delta is much lower than when targeting everyone. However, this is only the case here since the intervention doesn't depend on the number of customers (simply adjusting prices). The interventions usually go beyond simply adjusting prices to prevent churn. There may be the option of intensifying the customer relation, adding key account managers, or other interventions that do incur costs depending on how many customers are targeted. In that case, it may be benefitial to target only a subset of customers to save on these costs, even if the delta in the figure above is reduced."
   ]
  },
  {
   "cell_type": "markdown",
   "id": "cb98aa1c",
   "metadata": {},
   "source": [
    "## Optional Extra: Using forecast rather than actual churn\n",
    "\n",
    "We may have noticed above that we used actual churn outcomes in calculating the financial impact. Actual churn outcomes are fine if we know them and are conducting a retrospective analysis of the effectiveness of a strategy. This example of analysis is commonly known as 'backtesting', is seeing how well a strategy would have performed historically.\n",
    "\n",
    "(Of couorse, one must be careful that any analysis is done using out-of-sample data. Conducting the analysis on the training data will lead to predictions that are too optimistic.)\n",
    "\n",
    "In practive, actual outcomes may not be available because they are in the future.\n",
    "\n",
    "An alternative is to optimize predicted/forecast revenue based on the probabilities which are on output from our churn model. In this case, we would replace the actual churn outcomes (churn) with the predicted probabiliyt of churn from our model. The results here are obviously model-dependent.\n",
    "\n",
    "If our model probabilities are poorly calibrated then we can end up with quite poor results from this. Going down thiis path therefore usually requires the extra step of checking how well calibrated the moodel probabilities are, and potentially correcting for any miscalibrating using Platt scaling or isotonic regression."
   ]
  },
  {
   "cell_type": "code",
   "execution_count": 13,
   "id": "7445370f",
   "metadata": {},
   "outputs": [
    {
     "data": {
      "image/png": "[encoded data removed]",
      "text/plain": [
       "<Figure size 720x720 with 2 Axes>"
      ]
     },
     "metadata": {
      "needs_background": "light"
     },
     "output_type": "display_data"
    }
   ],
   "source": [
    "# check our calibrating\n",
    "from sklearn.calibration import calibration_curve\n",
    "\n",
    "fig = plt.figure(figsize = (10, 10))\n",
    "ax1 = plt.subplot2grid((3, 1), (0, 0), rowspan = 2)\n",
    "ax2 = plt.subplot2grid((3, 1), (2, 0))\n",
    "\n",
    "ax1.plot([0, 1], [0, 1], 'k:', label = 'Perfectly Calibrated')\n",
    "\n",
    "fraction_of_positives, mean_predicted_value = calibration_curve(y_true = predictions['y_test'],\n",
    "                                                               y_prob = predictions['y_test_pred'],\n",
    "                                                               n_bins = 10)\n",
    "\n",
    "ax1.plot(mean_predicted_value, fraction_of_positives, 's-', label = 'Our RF classifer')\n",
    "ax2.hist(predictions['y_test_pred'], range = (0, 1), bins = 10, histtype = 'step', lw = 2)\n",
    "\n",
    "ax1.set_ylabel('Fraction of positives')\n",
    "ax1.set_ylim([-0.05, 1.05])\n",
    "ax1.legend(loc='lower right')\n",
    "ax1.set_title('Calibration plots (reliability curve)')\n",
    "\n",
    "ax2.set_xlabel('Mean predicted value')\n",
    "ax2.set_ylabel('Count')\n",
    "\n",
    "plt.tight_layout()"
   ]
  },
  {
   "cell_type": "markdown",
   "id": "f2434cfc",
   "metadata": {},
   "source": [
    "Calibration is OK, but not perfect - let's skip the calibration step here.\n",
    "To use the predicted churn probability, we simply need to replace all 1/0 churn values with it in all calculations."
   ]
  },
  {
   "cell_type": "code",
   "execution_count": 14,
   "id": "d0989d84",
   "metadata": {},
   "outputs": [],
   "source": [
    "# taking churn into account\n",
    "predictions['basecase_revenue_after_churn'] = predictions['basecase_revenue'] * (1 - 0.919 * predictions['y_test_pred'])\n"
   ]
  },
  {
   "cell_type": "code",
   "execution_count": 15,
   "id": "71b42fb2",
   "metadata": {},
   "outputs": [],
   "source": [
    "def get_rev_delta(pred: pd.DataFrame, cutoff: float = 0.5, discount: float = 0.2) -> float:\n",
    "    '''\n",
    "    Get the delta of revenue for offering discount for all customers with predicted churn risk >= cutoff\n",
    "    '''\n",
    "    pred['discount_revenue'] = pred['basecase_revenue_after_churn']\n",
    "    # Churn predicted => discount is given => customer stays for full year, independent of whether the prediction\n",
    "    # (false positive, 'free'/unnecessary discount given) or correct\n",
    "    pred.loc[pred['y_test_pred'] >= cutoff, 'discount_revenue'] = pred['basecase_revenue'] * (1 - discount)\n",
    "    # save tthe revenue delta for each custtomer in a separate column\n",
    "    pred['revenue_delta'] = pred['discount_revenue'] - pred['basecase_revenue_after_churn']\n",
    "    return pred['revenue_delta'].sum()\n"
   ]
  },
  {
   "cell_type": "code",
   "execution_count": 16,
   "id": "bc337650",
   "metadata": {},
   "outputs": [],
   "source": [
    "rev_deltas = pd.Series({cutoff: get_rev_delta(predictions, cutoff = cutoff) for cutoff in np.arange(0, 1, 0.01)})"
   ]
  },
  {
   "cell_type": "code",
   "execution_count": 17,
   "id": "ae68b120",
   "metadata": {},
   "outputs": [
    {
     "data": {
      "image/png": "[encoded data removed]",
      "text/plain": [
       "<Figure size 432x288 with 1 Axes>"
      ]
     },
     "metadata": {
      "needs_background": "light"
     },
     "output_type": "display_data"
    },
    {
     "name": "stdout",
     "output_type": "stream",
     "text": [
      "Maximum benefit at cutoff 0.21 with revenue delta of $178,403.52\n"
     ]
    }
   ],
   "source": [
    "def plot_tradeoff(rev_deltas: pd.Series):\n",
    "    # Plot the revenue deltas\n",
    "    rev_deltas.plot()\n",
    "    # mark optimal point\n",
    "    max_pred = rev_deltas.idxmax()\n",
    "    plt.scatter(max_pred, rev_deltas.loc[max_pred], s = 100, c = 'red')\n",
    "    # Reference line for break-even\n",
    "    plt.hlines(0, 0, 1)\n",
    "    plt.show()\n",
    "    print(f'Maximum benefit at cutoff {max_pred} with revenue delta of ${rev_deltas.loc[max_pred]:,.2f}')\n",
    "\n",
    "plot_tradeoff(rev_deltas)"
   ]
  },
  {
   "cell_type": "markdown",
   "id": "026fd5e7",
   "metadata": {},
   "source": [
    "## Conclusion\n",
    "\n",
    "The optimal cut-off is about 26%. We might think that the cutoff is costly and that it might be more advantageous to focus on the most profitable consumers. However, in this case, it doesn't make sense to prioritize large-revenue customers, since the overall revenue delta is much lower than when targeting everyone. A strategic business possibility could be to intensify the customer relationship, add key account managers or other interventions that incur costs depending on the number of targeted customers. In this case, it may be advantageous to target only a subset of customers to save on these costs."
   ]
  },
  {
   "cell_type": "code",
   "execution_count": null,
   "id": "4c6e5f26",
   "metadata": {},
   "outputs": [],
   "source": []
  }
 ],
 "metadata": {
  "kernelspec": {
   "display_name": "Python 3 (ipykernel)",
   "language": "python",
   "name": "python3"
  },
  "language_info": {
   "codemirror_mode": {
    "name": "ipython",
    "version": 3
   },
   "file_extension": ".py",
   "mimetype": "text/x-python",
   "name": "python",
   "nbconvert_exporter": "python",
   "pygments_lexer": "ipython3",
   "version": "3.9.7"
  }
 },
 "nbformat": 4,
 "nbformat_minor": 5
}
